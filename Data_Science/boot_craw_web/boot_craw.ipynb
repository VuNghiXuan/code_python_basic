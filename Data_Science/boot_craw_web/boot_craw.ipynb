{
 "cells": [
  {
   "cell_type": "code",
   "execution_count": 16,
   "source": [
    "import selenium \r\n",
    "from selenium import webdriver\r\n",
    "from selenium.webdriver.common.keys import Keys\r\n",
    "from time import sleep"
   ],
   "outputs": [],
   "metadata": {}
  },
  {
   "cell_type": "code",
   "execution_count": 17,
   "source": [
    "# selenium.__file__\r\n",
    "# https://www.youtube.com/watch?v=hfnBswCe4QE"
   ],
   "outputs": [],
   "metadata": {}
  },
  {
   "cell_type": "code",
   "execution_count": 18,
   "source": [
    "read_id_pass= open(\"id_pass_pyan.txt\")\r\n",
    "info= read_id_pass.readlines()\r\n",
    "id_infor= info[0]\r\n",
    "id_infor= id_infor.replace('\\n','')\r\n",
    "pw_infor= info[1]\r\n",
    "\r\n",
    "sleep(2)\r\n",
    "driver = webdriver.Chrome(r\"C:/chromedriver_win32/chromedriver.exe\")\r\n",
    "# url=\"https://vunghixuan.github.io/\"\r\n",
    "url= 'https://pyan.vn/dang-nhap'\r\n",
    "driver.get(url)\r\n",
    "\r\n",
    "sleep(3)\r\n",
    "userName= driver.find_elements_by_name(\"email\")\r\n",
    "userName[0].send_keys(id_infor)\r\n",
    "\r\n",
    "sleep(2)\r\n",
    "passWord= driver.find_elements_by_name(\"password\")\r\n",
    "passWord[0].send_keys(pw_infor)\r\n",
    "\r\n",
    "sleep(2)\r\n",
    "login= driver.find_element_by_xpath('//*[@id=\"login\"]/div/form/button')\r\n",
    "login.click()\r\n",
    "\r\n",
    "\"Seach find infotmation\";\r\n",
    "sleep(5)\r\n",
    "# url=\"https://pyan.vn/khoa-hoc-da-dang-ky\"\r\n",
    "# driver.get(url)\r\n",
    "# excel_python= driver.find_element_by_xpath('//*[@id=\"course\"]/div[2]/div/div/a/div/div[1]')\r\n"
   ],
   "outputs": [],
   "metadata": {}
  }
 ],
 "metadata": {
  "orig_nbformat": 4,
  "language_info": {
   "name": "python",
   "version": "3.9.2",
   "mimetype": "text/x-python",
   "codemirror_mode": {
    "name": "ipython",
    "version": 3
   },
   "pygments_lexer": "ipython3",
   "nbconvert_exporter": "python",
   "file_extension": ".py"
  },
  "kernelspec": {
   "name": "python3",
   "display_name": "Python 3.9.2 64-bit"
  },
  "interpreter": {
   "hash": "cf6663ca35ebd57d6121109460e534e72c1e1f8ff142ad985cdcb4b7e585eb79"
  }
 },
 "nbformat": 4,
 "nbformat_minor": 2
}